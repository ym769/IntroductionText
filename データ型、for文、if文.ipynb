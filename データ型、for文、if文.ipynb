{
 "cells": [
  {
   "cell_type": "code",
   "execution_count": 10,
   "metadata": {},
   "outputs": [],
   "source": [
    "your_name = \"チャン\""
   ]
  },
  {
   "cell_type": "code",
   "execution_count": 11,
   "metadata": {},
   "outputs": [
    {
     "name": "stdout",
     "output_type": "stream",
     "text": [
      "あなたの名前はチャンです。\n"
     ]
    }
   ],
   "source": [
    "print(\"あなたの名前は\"+your_name+\"です。\") # string型は、ほかのstring型と足し合わせることで文を連結させることができます。"
   ]
  },
  {
   "cell_type": "code",
   "execution_count": 21,
   "metadata": {},
   "outputs": [],
   "source": [
    "count = 5 # int型は整数値です。int型のほかにもfloat型などがあります。float型は少数値です。"
   ]
  },
  {
   "cell_type": "code",
   "execution_count": 22,
   "metadata": {},
   "outputs": [
    {
     "data": {
      "text/plain": [
       "7"
      ]
     },
     "execution_count": 22,
     "metadata": {},
     "output_type": "execute_result"
    }
   ],
   "source": [
    "count + 2"
   ]
  },
  {
   "cell_type": "code",
   "execution_count": 17,
   "metadata": {},
   "outputs": [
    {
     "ename": "AttributeError",
     "evalue": "'int' object has no attribute 'str'",
     "output_type": "error",
     "traceback": [
      "\u001b[1;31m---------------------------------------------------------------------------\u001b[0m",
      "\u001b[1;31mAttributeError\u001b[0m                            Traceback (most recent call last)",
      "\u001b[1;32m<ipython-input-17-e82d250b5d60>\u001b[0m in \u001b[0;36m<module>\u001b[1;34m\u001b[0m\n\u001b[1;32m----> 1\u001b[1;33m \u001b[0mprint\u001b[0m\u001b[1;33m(\u001b[0m\u001b[1;34m\"ゲームプレイヤーの人数は\"\u001b[0m\u001b[1;33m+\u001b[0m\u001b[0mcount\u001b[0m\u001b[1;33m.\u001b[0m\u001b[0mstr\u001b[0m\u001b[1;33m+\u001b[0m\u001b[1;34m\"です。\"\u001b[0m\u001b[1;33m)\u001b[0m\u001b[1;33m\u001b[0m\u001b[1;33m\u001b[0m\u001b[0m\n\u001b[0m",
      "\u001b[1;31mAttributeError\u001b[0m: 'int' object has no attribute 'str'"
     ]
    }
   ],
   "source": [
    "# string型とint型を足すことはできません。\n",
    "print(\"ゲームプレイヤーの人数は\"+count+\"です。\")"
   ]
  },
  {
   "cell_type": "code",
   "execution_count": 15,
   "metadata": {},
   "outputs": [
    {
     "name": "stdout",
     "output_type": "stream",
     "text": [
      "ゲームプレイヤーの人数は5人です。\n"
     ]
    }
   ],
   "source": [
    "print(\"ゲームプレイヤーの人数は\"+str(count)+\"人です。\")"
   ]
  },
  {
   "cell_type": "code",
   "execution_count": 27,
   "metadata": {},
   "outputs": [
    {
     "name": "stdout",
     "output_type": "stream",
     "text": [
      "True\n",
      "False\n"
     ]
    }
   ],
   "source": [
    "# boolian : \"True\"または\"False\"を返します。\n",
    "print(your_name == \"チャン\") # =（イコール一つ）は変数を定義するときに使いましたが、==（イコール二つ）は対応関係が正しいのかどうかを調べます\n",
    "print(count == \"チャン\")"
   ]
  },
  {
   "cell_type": "code",
   "execution_count": 2,
   "metadata": {},
   "outputs": [
    {
     "name": "stdout",
     "output_type": "stream",
     "text": [
      "プレイヤー1の名前を入力してください: サンドラ\n",
      "サンドラが入室しました。\n",
      "プレイヤー2の名前を入力してください: クリス\n",
      "クリスが入室しました。\n",
      "プレイヤー3の名前を入力してください: フェイ\n",
      "フェイが入室しました。\n",
      "プレイヤー4の名前を入力してください: リリアン\n",
      "リリアンが入室しました。\n",
      "プレイヤー5の名前を入力してください: ゲイル\n",
      "ゲイルが入室しました。\n"
     ]
    }
   ],
   "source": [
    "player_num = 5\n",
    "players = []\n",
    "for i in range(5):\n",
    "    p = input(\"プレイヤー\"+str(count+1)+\"の名前を入力してください: \")\n",
    "    print(p+\"が入室しました。\")\n",
    "    players.append(p)"
   ]
  },
  {
   "cell_type": "code",
   "execution_count": 32,
   "metadata": {},
   "outputs": [
    {
     "name": "stdout",
     "output_type": "stream",
     "text": [
      "['サンドラ', 'クリス', 'リリアン', 'ゲイル', 'チャン']\n"
     ]
    }
   ],
   "source": [
    "print(players)"
   ]
  },
  {
   "cell_type": "code",
   "execution_count": 33,
   "metadata": {},
   "outputs": [
    {
     "name": "stdout",
     "output_type": "stream",
     "text": [
      "サンドラ\n"
     ]
    }
   ],
   "source": [
    "print(players[0])"
   ]
  },
  {
   "cell_type": "code",
   "execution_count": 34,
   "metadata": {},
   "outputs": [
    {
     "name": "stdout",
     "output_type": "stream",
     "text": [
      "['サンドラ', 'クリス']\n"
     ]
    }
   ],
   "source": [
    "print(players[:2])"
   ]
  },
  {
   "cell_type": "code",
   "execution_count": 37,
   "metadata": {},
   "outputs": [
    {
     "data": {
      "text/plain": [
       "5"
      ]
     },
     "execution_count": 37,
     "metadata": {},
     "output_type": "execute_result"
    }
   ],
   "source": [
    "len(players)"
   ]
  },
  {
   "cell_type": "code",
   "execution_count": 36,
   "metadata": {},
   "outputs": [
    {
     "name": "stdout",
     "output_type": "stream",
     "text": [
      "サンドラ、あなたは人狼です。\n",
      "クリス、あなたは人狼です。\n",
      "リリアン、あなたは市民です。\n",
      "ゲイル、あなたは市民です。\n",
      "チャン、あなたは市民です。\n"
     ]
    }
   ],
   "source": [
    "for i in range(len(players)):\n",
    "    if i<2:\n",
    "        print(players[i]+\"、あなたは人狼です。\")\n",
    "    else:\n",
    "        print(players[i]+\"、あなたは市民です。\")"
   ]
  },
  {
   "cell_type": "code",
   "execution_count": 39,
   "metadata": {},
   "outputs": [
    {
     "name": "stdout",
     "output_type": "stream",
     "text": [
      "サンドラ、あなたは市民です。\n",
      "クリス、あなたは人狼です。\n",
      "リリアン、あなたは市民です。\n",
      "ゲイル、あなたは人狼です。\n",
      "チャン、あなたは市民です。\n"
     ]
    }
   ],
   "source": [
    "for i in range(len(players)):\n",
    "    if i==1 or i==3:\n",
    "        print(players[i]+\"、あなたは人狼です。\")\n",
    "    else:\n",
    "        print(players[i]+\"、あなたは市民です。\")"
   ]
  },
  {
   "cell_type": "code",
   "execution_count": null,
   "metadata": {},
   "outputs": [],
   "source": [
    "import random\n",
    "shuffle = random.sample(players, 5)\n",
    "for i in range(len(players)):\n",
    "    shuffle_idx = shuffle.index(players[i])"
   ]
  },
  {
   "cell_type": "code",
   "execution_count": null,
   "metadata": {},
   "outputs": [],
   "source": []
  },
  {
   "cell_type": "code",
   "execution_count": 5,
   "metadata": {},
   "outputs": [
    {
     "name": "stdout",
     "output_type": "stream",
     "text": [
      "何人でプレイしますか？: 5\n",
      "プレイヤー1の名前を入力してください: サンドラ\n",
      "サンドラが入室しました。\n",
      "プレイヤー2の名前を入力してください: クリス\n",
      "クリスが入室しました。\n",
      "プレイヤー3の名前を入力してください: リリアン\n",
      "リリアンが入室しました。\n",
      "プレイヤー4の名前を入力してください: ゲイル\n",
      "ゲイルが入室しました。\n",
      "プレイヤー5の名前を入力してください: チャン\n",
      "チャンが入室しました。\n"
     ]
    }
   ],
   "source": [
    "player_num = int(input(\"何人でプレイしますか？: \"))\n",
    "players = []\n",
    "count = 0\n",
    "for i in range(player_num):\n",
    "    p = input(\"プレイヤー\"+str(count+1)+\"の名前を入力してください: \")\n",
    "    print(p+\"が入室しました。\")\n",
    "    players.append(p)\n",
    "    count += 1"
   ]
  },
  {
   "cell_type": "code",
   "execution_count": null,
   "metadata": {},
   "outputs": [],
   "source": []
  }
 ],
 "metadata": {
  "kernelspec": {
   "display_name": "Python 3",
   "language": "python",
   "name": "python3"
  },
  "language_info": {
   "codemirror_mode": {
    "name": "ipython",
    "version": 3
   },
   "file_extension": ".py",
   "mimetype": "text/x-python",
   "name": "python",
   "nbconvert_exporter": "python",
   "pygments_lexer": "ipython3",
   "version": "3.7.3"
  }
 },
 "nbformat": 4,
 "nbformat_minor": 2
}
