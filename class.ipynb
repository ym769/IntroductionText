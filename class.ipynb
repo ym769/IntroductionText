{
 "cells": [
  {
   "cell_type": "code",
   "execution_count": 24,
   "metadata": {},
   "outputs": [],
   "source": [
    "class Player():\n",
    "    def __init__(self, name, player_id):\n",
    "        self.name = name # Playerに名前を付けることができます\n",
    "        self.player_id = player_id # Playerにidをふることができます\n",
    "        print(self.name+\"が入室しました。\")"
   ]
  },
  {
   "cell_type": "code",
   "execution_count": 25,
   "metadata": {},
   "outputs": [
    {
     "name": "stdout",
     "output_type": "stream",
     "text": [
      "アンナが入室しました。\n"
     ]
    }
   ],
   "source": [
    "P1 = Player(\"アンナ\",1)"
   ]
  },
  {
   "cell_type": "code",
   "execution_count": 26,
   "metadata": {},
   "outputs": [
    {
     "name": "stdout",
     "output_type": "stream",
     "text": [
      "メアリーが入室しました。\n"
     ]
    }
   ],
   "source": [
    "P2 = Player(\"メアリー\",2)"
   ]
  },
  {
   "cell_type": "code",
   "execution_count": 27,
   "metadata": {},
   "outputs": [
    {
     "name": "stdout",
     "output_type": "stream",
     "text": [
      "アンナ\n",
      "1\n"
     ]
    }
   ],
   "source": [
    "print(P1.name)\n",
    "print(P1.player_id)"
   ]
  },
  {
   "cell_type": "code",
   "execution_count": 28,
   "metadata": {},
   "outputs": [
    {
     "name": "stdout",
     "output_type": "stream",
     "text": [
      "何人でプレイしますか？: 6\n",
      "プレイヤー1の名前を入力してください: メアリー\n",
      "メアリーが入室しました。\n",
      "プレイヤー2の名前を入力してください: クリス\n",
      "クリスが入室しました。\n",
      "プレイヤー3の名前を入力してください: サンドラ\n",
      "サンドラが入室しました。\n",
      "プレイヤー4の名前を入力してください: ジェシカ\n",
      "ジェシカが入室しました。\n",
      "プレイヤー5の名前を入力してください: ニック\n",
      "ニックが入室しました。\n",
      "プレイヤー6の名前を入力してください: ビル\n",
      "ビルが入室しました。\n"
     ]
    }
   ],
   "source": [
    "player_num = int(input(\"何人でプレイしますか？: \"))\n",
    "players = []\n",
    "count = 0\n",
    "for i in range(player_num):\n",
    "    p = input(\"プレイヤー\"+str(count+1)+\"の名前を入力してください: \")\n",
    "    p = Player(p,count)\n",
    "    players.append(p)\n",
    "    count += 1"
   ]
  },
  {
   "cell_type": "code",
   "execution_count": 29,
   "metadata": {},
   "outputs": [
    {
     "data": {
      "text/plain": [
       "[<__main__.Player at 0x23b4c742860>,\n",
       " <__main__.Player at 0x23b4c742fd0>,\n",
       " <__main__.Player at 0x23b4c819710>,\n",
       " <__main__.Player at 0x23b4c74fcf8>,\n",
       " <__main__.Player at 0x23b4c819940>,\n",
       " <__main__.Player at 0x23b4c819860>]"
      ]
     },
     "execution_count": 29,
     "metadata": {},
     "output_type": "execute_result"
    }
   ],
   "source": [
    "players # playersリストにはPlayerオブジェクトが格納されています。それぞれのオブジェクトには名前とidが与えられています"
   ]
  },
  {
   "cell_type": "code",
   "execution_count": 30,
   "metadata": {},
   "outputs": [
    {
     "data": {
      "text/plain": [
       "'サンドラ'"
      ]
     },
     "execution_count": 30,
     "metadata": {},
     "output_type": "execute_result"
    }
   ],
   "source": [
    "players[2].name"
   ]
  },
  {
   "cell_type": "code",
   "execution_count": 31,
   "metadata": {},
   "outputs": [],
   "source": [
    "class Wolf(Player):\n",
    "    def __init__(self, name):\n",
    "        self.name = name\n",
    "        print(self.name+\"、あなたは人狼です。毎晩村人を一人ずつ襲撃することができます。\")"
   ]
  },
  {
   "cell_type": "code",
   "execution_count": 38,
   "metadata": {},
   "outputs": [],
   "source": [
    "class Civilian(Player):\n",
    "    def __init__(self, name):\n",
    "        self.name = name\n",
    "        print(self.name+\"、あなたは村人です。投票で怪しい人を選択し、人狼を追放しましょう。\")"
   ]
  },
  {
   "cell_type": "code",
   "execution_count": 39,
   "metadata": {},
   "outputs": [
    {
     "name": "stdout",
     "output_type": "stream",
     "text": [
      "サンドラ、あなたは人狼です。毎晩村人を一人ずつ襲撃することができます。\n",
      "メアリー、あなたは村人です。投票で怪しい人を選択し、人狼を追放しましょう。\n"
     ]
    }
   ],
   "source": [
    "Wolf1 = Wolf(players[2].name)\n",
    "Hunter1 = Civilian(players[0].name)"
   ]
  },
  {
   "cell_type": "code",
   "execution_count": 40,
   "metadata": {},
   "outputs": [],
   "source": [
    "import random\n",
    "shuffle = random.sample(players, player_num)\n",
    "for i in range(len(players)):\n",
    "    shuffle_idx = shuffle.index(players[i])"
   ]
  },
  {
   "cell_type": "code",
   "execution_count": 41,
   "metadata": {},
   "outputs": [
    {
     "name": "stdout",
     "output_type": "stream",
     "text": [
      "ビル、あなたは人狼です。毎晩村人を一人ずつ襲撃することができます。\n",
      "メアリー、あなたは村人です。投票で怪しい人を選択し、人狼を追放しましょう。\n"
     ]
    }
   ],
   "source": [
    "shuffle = random.sample(players, player_num)\n",
    "shuffle_idx = []\n",
    "for i in range(len(players)):\n",
    "    shuffle_idx.append(shuffle.index(players[i]))\n",
    "    \n",
    "Wolf1 = Wolf(players[shuffle_idx[0]].name)\n",
    "Hunter1 = Civilian(players[shuffle_idx[1]].name)"
   ]
  },
  {
   "cell_type": "code",
   "execution_count": null,
   "metadata": {},
   "outputs": [],
   "source": [
    "shuffle_idx"
   ]
  },
  {
   "cell_type": "code",
   "execution_count": null,
   "metadata": {},
   "outputs": [],
   "source": []
  }
 ],
 "metadata": {
  "kernelspec": {
   "display_name": "Python 3",
   "language": "python",
   "name": "python3"
  },
  "language_info": {
   "codemirror_mode": {
    "name": "ipython",
    "version": 3
   },
   "file_extension": ".py",
   "mimetype": "text/x-python",
   "name": "python",
   "nbconvert_exporter": "python",
   "pygments_lexer": "ipython3",
   "version": "3.7.3"
  }
 },
 "nbformat": 4,
 "nbformat_minor": 2
}
