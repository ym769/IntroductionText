{
 "cells": [
  {
   "cell_type": "code",
   "execution_count": 4,
   "metadata": {},
   "outputs": [],
   "source": [
    "class Player():\n",
    "    def __init__(self, name, player_id):\n",
    "        self.name = name # Playerに名前を付けることができます\n",
    "        self.player_id = player_id # Playerにidをふることができます\n",
    "        print(self.name+\"が入室しました。\")"
   ]
  },
  {
   "cell_type": "code",
   "execution_count": 5,
   "metadata": {},
   "outputs": [
    {
     "name": "stdout",
     "output_type": "stream",
     "text": [
      "アンナが入室しました。\n"
     ]
    }
   ],
   "source": [
    "P1 = Player(\"アンナ\",1)"
   ]
  },
  {
   "cell_type": "code",
   "execution_count": 6,
   "metadata": {},
   "outputs": [
    {
     "name": "stdout",
     "output_type": "stream",
     "text": [
      "メアリーが入室しました。\n"
     ]
    }
   ],
   "source": [
    "P2 = Player(\"メアリー\",2)"
   ]
  },
  {
   "cell_type": "code",
   "execution_count": null,
   "metadata": {},
   "outputs": [],
   "source": [
    "num_players = int(input(\"how many players: \"))\n",
    "players = []\n",
    "count = 0\n",
    "for i in range(player_num):\n",
    "    p = input(\"enter your name: \")\n",
    "    p = Player(p,count)\n",
    "    players.append(p)\n",
    "    count =+ 1"
   ]
  },
  {
   "cell_type": "code",
   "execution_count": 55,
   "metadata": {},
   "outputs": [
    {
     "data": {
      "text/plain": [
       "'jecica'"
      ]
     },
     "execution_count": 55,
     "metadata": {},
     "output_type": "execute_result"
    }
   ],
   "source": [
    "players[2].name"
   ]
  },
  {
   "cell_type": "code",
   "execution_count": 74,
   "metadata": {},
   "outputs": [],
   "source": [
    "class Wolf(Player):\n",
    "    def __init__(self, name):\n",
    "        self.name = name\n",
    "        print(self.name+\", You are a Wolf. You gonna attack one person every night\")"
   ]
  },
  {
   "cell_type": "code",
   "execution_count": 75,
   "metadata": {},
   "outputs": [],
   "source": [
    "class Hunter(Player):\n",
    "    def __init__(self, name):\n",
    "        self.name = name\n",
    "        print(self.name+\", You are a Hunter. You can choose one person to save every night\")"
   ]
  },
  {
   "cell_type": "code",
   "execution_count": 76,
   "metadata": {},
   "outputs": [
    {
     "name": "stdout",
     "output_type": "stream",
     "text": [
      "jecica, You are a Wolf. You gonna attack one person every night\n",
      "geil, You are a Hunter. You can choose one person to save every night\n"
     ]
    }
   ],
   "source": [
    "Wolf1 = Wolf(players[2].name)\n",
    "Hunter1 = Hunter(players[0].name)"
   ]
  },
  {
   "cell_type": "code",
   "execution_count": 103,
   "metadata": {},
   "outputs": [
    {
     "name": "stdout",
     "output_type": "stream",
     "text": [
      "2\n"
     ]
    }
   ],
   "source": [
    "import random"
   ]
  },
  {
   "cell_type": "code",
   "execution_count": 113,
   "metadata": {},
   "outputs": [
    {
     "name": "stdout",
     "output_type": "stream",
     "text": [
      "2\n",
      "1\n",
      "0\n"
     ]
    }
   ],
   "source": [
    "shuffle = random.sample(players, 3)\n",
    "for i in range(len(players)):\n",
    "    shuffle_idx = shuffle.index(players[i])"
   ]
  },
  {
   "cell_type": "code",
   "execution_count": 126,
   "metadata": {},
   "outputs": [
    {
     "name": "stdout",
     "output_type": "stream",
     "text": [
      "sandra, You are a Wolf. You gonna attack one person every night\n",
      "jecica, You are a Hunter. You can choose one person to save every night\n"
     ]
    }
   ],
   "source": [
    "shuffle = random.sample(players, 3)\n",
    "shuffle_idx = []\n",
    "for i in range(len(players)):\n",
    "    shuffle_idx.append(shuffle.index(players[i]))\n",
    "    \n",
    "Wolf1 = Wolf(players[shuffle_idx[0]].name)\n",
    "Hunter1 = Hunter(players[shuffle_idx[1]].name)"
   ]
  },
  {
   "cell_type": "code",
   "execution_count": 118,
   "metadata": {},
   "outputs": [
    {
     "data": {
      "text/plain": [
       "[2, 0, 1]"
      ]
     },
     "execution_count": 118,
     "metadata": {},
     "output_type": "execute_result"
    }
   ],
   "source": [
    "shuffle_idx"
   ]
  },
  {
   "cell_type": "code",
   "execution_count": null,
   "metadata": {},
   "outputs": [],
   "source": []
  }
 ],
 "metadata": {
  "kernelspec": {
   "display_name": "Python 3",
   "language": "python",
   "name": "python3"
  },
  "language_info": {
   "codemirror_mode": {
    "name": "ipython",
    "version": 3
   },
   "file_extension": ".py",
   "mimetype": "text/x-python",
   "name": "python",
   "nbconvert_exporter": "python",
   "pygments_lexer": "ipython3",
   "version": "3.7.3"
  }
 },
 "nbformat": 4,
 "nbformat_minor": 2
}
